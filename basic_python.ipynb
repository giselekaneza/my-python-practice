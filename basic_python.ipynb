{
 "cells": [
  {
   "cell_type": "markdown",
   "id": "94244809",
   "metadata": {},
   "source": [
    "# Importing modules and using them\n",
    "Modules include:\n",
    "- Numpy:numerical python enables us to use numerical libraries,these libraries include:\n",
    "    - cosine:import numpy as np then we type np.cos(x), where x is any value \n",
    "    - sine : np.sin(x)\n",
    "    - tan : np.tan(x)\n",
    "    - etc\n",
    "- Sympy: symblolic python enable us to do integration, differantion, using symbols etc.\n",
    "        import sympy as Sym\n",
    "- Scipy:scientific python enables us with statistics \n",
    "        import scipy as Sc\n",
    "- Pandas: used in data visualisation and analysis \n",
    "         import pandas as Pd\n",
    "- matplotlib.pylab: used for plotting\n",
    "         import matplotlib.pylab as plt\n",
    "        "
   ]
  },
  {
   "cell_type": "code",
   "execution_count": null,
   "id": "c131c788",
   "metadata": {},
   "outputs": [],
   "source": []
  },
  {
   "cell_type": "code",
   "execution_count": 1,
   "id": "a97a4d36",
   "metadata": {},
   "outputs": [],
   "source": [
    "import numpy as np"
   ]
  },
  {
   "cell_type": "code",
   "execution_count": 2,
   "id": "73cf4acf",
   "metadata": {},
   "outputs": [
    {
     "data": {
      "text/plain": [
       "-0.4480736161291701"
      ]
     },
     "execution_count": 2,
     "metadata": {},
     "output_type": "execute_result"
    }
   ],
   "source": [
    "np.cos(90)"
   ]
  },
  {
   "cell_type": "code",
   "execution_count": 3,
   "id": "875048c7",
   "metadata": {},
   "outputs": [
    {
     "data": {
      "text/plain": [
       "5.0"
      ]
     },
     "execution_count": 3,
     "metadata": {},
     "output_type": "execute_result"
    }
   ],
   "source": [
    "np.sqrt(25)"
   ]
  },
  {
   "cell_type": "markdown",
   "id": "3a57a535",
   "metadata": {},
   "source": [
    "### Activity\n",
    "#### No.1"
   ]
  },
  {
   "cell_type": "code",
   "execution_count": 4,
   "id": "6f13998b",
   "metadata": {},
   "outputs": [
    {
     "data": {
      "text/plain": [
       "0.0"
      ]
     },
     "execution_count": 4,
     "metadata": {},
     "output_type": "execute_result"
    }
   ],
   "source": [
    "np.log(1)"
   ]
  },
  {
   "cell_type": "code",
   "execution_count": 5,
   "id": "9557ef60",
   "metadata": {},
   "outputs": [
    {
     "data": {
      "text/plain": [
       "-2.4492935982947064e-16"
      ]
     },
     "execution_count": 5,
     "metadata": {},
     "output_type": "execute_result"
    }
   ],
   "source": [
    "np.tan(2*np.pi)\n"
   ]
  },
  {
   "cell_type": "markdown",
   "id": "ab1bbcdb",
   "metadata": {},
   "source": [
    "#### No.2"
   ]
  },
  {
   "cell_type": "code",
   "execution_count": 6,
   "id": "2ea31938",
   "metadata": {},
   "outputs": [
    {
     "data": {
      "text/plain": [
       "0.7855328097128459"
      ]
     },
     "execution_count": 6,
     "metadata": {},
     "output_type": "execute_result"
    }
   ],
   "source": [
    "np.sin(3/2*np.pi**2)\n"
   ]
  },
  {
   "cell_type": "markdown",
   "id": "a8d26508",
   "metadata": {},
   "source": [
    "#### No.3"
   ]
  },
  {
   "cell_type": "code",
   "execution_count": 7,
   "id": "1fe5cd8c",
   "metadata": {},
   "outputs": [
    {
     "data": {
      "text/plain": [
       "3.141592653589793"
      ]
     },
     "execution_count": 7,
     "metadata": {},
     "output_type": "execute_result"
    }
   ],
   "source": [
    "np.pi"
   ]
  },
  {
   "cell_type": "markdown",
   "id": "fa07aeba",
   "metadata": {},
   "source": [
    "#### No.4"
   ]
  },
  {
   "cell_type": "code",
   "execution_count": 8,
   "id": "899226d9",
   "metadata": {},
   "outputs": [
    {
     "data": {
      "text/plain": [
       "2.577141844150581"
      ]
     },
     "execution_count": 8,
     "metadata": {},
     "output_type": "execute_result"
    }
   ],
   "source": [
    "np.log((4*np.pi**2)/3)"
   ]
  },
  {
   "cell_type": "markdown",
   "id": "971f0828",
   "metadata": {},
   "source": [
    "#### No.5"
   ]
  },
  {
   "cell_type": "code",
   "execution_count": 9,
   "id": "1d9f51b4",
   "metadata": {},
   "outputs": [
    {
     "data": {
      "text/plain": [
       "-0.9843872569764778"
      ]
     },
     "execution_count": 9,
     "metadata": {},
     "output_type": "execute_result"
    }
   ],
   "source": [
    "x=5\n",
    "np.cos(x**4)"
   ]
  },
  {
   "cell_type": "code",
   "execution_count": 10,
   "id": "8943c80c",
   "metadata": {},
   "outputs": [
    {
     "name": "stdout",
     "output_type": "stream",
     "text": [
      "7\n"
     ]
    }
   ],
   "source": [
    "y=x+2\n",
    "print(y)"
   ]
  },
  {
   "cell_type": "code",
   "execution_count": 11,
   "id": "fe7e61a3",
   "metadata": {},
   "outputs": [
    {
     "name": "stdout",
     "output_type": "stream",
     "text": [
      "-0.9843872569764778\n"
     ]
    }
   ],
   "source": [
    "z=np.cos(x**4)\n",
    "print(z)"
   ]
  },
  {
   "cell_type": "markdown",
   "id": "707429c9",
   "metadata": {},
   "source": [
    "## Lists and Arrays"
   ]
  },
  {
   "cell_type": "code",
   "execution_count": 12,
   "id": "7950ef03",
   "metadata": {},
   "outputs": [
    {
     "name": "stdout",
     "output_type": "stream",
     "text": [
      "[1, 2, 3, 4]\n"
     ]
    }
   ],
   "source": [
    "A=[1,2,3,4]\n",
    "print(A)"
   ]
  },
  {
   "cell_type": "code",
   "execution_count": 13,
   "id": "e5d92d31",
   "metadata": {},
   "outputs": [
    {
     "data": {
      "text/plain": [
       "4"
      ]
     },
     "execution_count": 13,
     "metadata": {},
     "output_type": "execute_result"
    }
   ],
   "source": [
    "len(A)"
   ]
  },
  {
   "cell_type": "code",
   "execution_count": 14,
   "id": "71c13935",
   "metadata": {},
   "outputs": [
    {
     "data": {
      "text/plain": [
       "3"
      ]
     },
     "execution_count": 14,
     "metadata": {},
     "output_type": "execute_result"
    }
   ],
   "source": [
    "A[0]\n",
    "A[1]\n",
    "A[2]"
   ]
  },
  {
   "cell_type": "code",
   "execution_count": 15,
   "id": "5342ae8c",
   "metadata": {},
   "outputs": [
    {
     "name": "stdout",
     "output_type": "stream",
     "text": [
      "[1, 2, 3, 10]\n"
     ]
    }
   ],
   "source": [
    "A[3]=10\n",
    "print(A)"
   ]
  },
  {
   "cell_type": "markdown",
   "id": "8472b82e",
   "metadata": {},
   "source": [
    "#### Ex.1"
   ]
  },
  {
   "cell_type": "code",
   "execution_count": 16,
   "id": "0a1ab28e",
   "metadata": {},
   "outputs": [
    {
     "data": {
      "text/plain": [
       "-0.4161468365471424"
      ]
     },
     "execution_count": 16,
     "metadata": {},
     "output_type": "execute_result"
    }
   ],
   "source": [
    "np.cos(2)"
   ]
  },
  {
   "cell_type": "markdown",
   "id": "6694d446",
   "metadata": {},
   "source": [
    "# Homework"
   ]
  },
  {
   "cell_type": "markdown",
   "id": "075dcdd0",
   "metadata": {},
   "source": [
    "### No.1"
   ]
  },
  {
   "cell_type": "code",
   "execution_count": 22,
   "id": "1c658946",
   "metadata": {},
   "outputs": [],
   "source": [
    "import numpy as np"
   ]
  },
  {
   "cell_type": "code",
   "execution_count": 21,
   "id": "d223a843",
   "metadata": {},
   "outputs": [
    {
     "name": "stdout",
     "output_type": "stream",
     "text": [
      "z =  0.9563500657790059\n"
     ]
    }
   ],
   "source": [
    "z=np.cos((2*np.pi**2)/3)\n",
    "print('z = ',z)"
   ]
  },
  {
   "cell_type": "code",
   "execution_count": 18,
   "id": "875e441f",
   "metadata": {},
   "outputs": [
    {
     "name": "stdout",
     "output_type": "stream",
     "text": [
      "0.9563500657790059\n"
     ]
    }
   ],
   "source": [
    "\n",
    "z=np.cos((2*np.pi**2)/3)\n",
    "print(z)"
   ]
  },
  {
   "cell_type": "code",
   "execution_count": 23,
   "id": "227ce2fd",
   "metadata": {},
   "outputs": [
    {
     "name": "stdout",
     "output_type": "stream",
     "text": [
      "35.252414651589085\n"
     ]
    }
   ],
   "source": [
    "z=np.log(np.cos(3*np.pi)/np.sin(4*np.pi))\n",
    "print(z)"
   ]
  },
  {
   "cell_type": "code",
   "execution_count": 26,
   "id": "3e59378d",
   "metadata": {},
   "outputs": [
    {
     "data": {
      "text/plain": [
       "0.07155133637128974"
      ]
     },
     "execution_count": 26,
     "metadata": {},
     "output_type": "execute_result"
    }
   ],
   "source": [
    "np.sin(np.sqrt(3*np.pi))"
   ]
  },
  {
   "cell_type": "code",
   "execution_count": 28,
   "id": "292c6cc7",
   "metadata": {},
   "outputs": [
    {
     "name": "stdout",
     "output_type": "stream",
     "text": [
      "[1, 2, 3, 'a', 'b', 4]\n"
     ]
    }
   ],
   "source": [
    "x=[1,2,3,'a','b',4]\n",
    "print(x)"
   ]
  },
  {
   "cell_type": "code",
   "execution_count": 29,
   "id": "5964cdce",
   "metadata": {},
   "outputs": [
    {
     "data": {
      "text/plain": [
       "6"
      ]
     },
     "execution_count": 29,
     "metadata": {},
     "output_type": "execute_result"
    }
   ],
   "source": [
    "len(x)"
   ]
  },
  {
   "cell_type": "code",
   "execution_count": 30,
   "id": "043352a2",
   "metadata": {},
   "outputs": [
    {
     "data": {
      "text/plain": [
       "2"
      ]
     },
     "execution_count": 30,
     "metadata": {},
     "output_type": "execute_result"
    }
   ],
   "source": [
    "x[1]"
   ]
  },
  {
   "cell_type": "code",
   "execution_count": 31,
   "id": "a452e2c8",
   "metadata": {},
   "outputs": [
    {
     "name": "stdout",
     "output_type": "stream",
     "text": [
      "[1, 2, 3, 'd', 'b', 4]\n"
     ]
    }
   ],
   "source": [
    "x=[1,2,3,'d','b',4]\n",
    "print(x)"
   ]
  },
  {
   "cell_type": "code",
   "execution_count": 34,
   "id": "76cd68e5",
   "metadata": {},
   "outputs": [
    {
     "name": "stdout",
     "output_type": "stream",
     "text": [
      "x= 5 \n",
      "y= 6\n"
     ]
    }
   ],
   "source": [
    "x=5\n",
    "y=6\n",
    "print ('x=',x,'\\ny=',y)"
   ]
  },
  {
   "cell_type": "code",
   "execution_count": 35,
   "id": "b4538505",
   "metadata": {},
   "outputs": [
    {
     "data": {
      "text/plain": [
       "range(0, 2)"
      ]
     },
     "execution_count": 35,
     "metadata": {},
     "output_type": "execute_result"
    }
   ],
   "source": [
    "range(2)"
   ]
  },
  {
   "cell_type": "code",
   "execution_count": 37,
   "id": "bcb44707",
   "metadata": {},
   "outputs": [
    {
     "name": "stdout",
     "output_type": "stream",
     "text": [
      "range(1, 5)\n"
     ]
    }
   ],
   "source": [
    "x=range(1,5)\n",
    "print(x)"
   ]
  },
  {
   "cell_type": "code",
   "execution_count": 38,
   "id": "356c0d30",
   "metadata": {},
   "outputs": [
    {
     "name": "stdout",
     "output_type": "stream",
     "text": [
      "1\n",
      "2\n",
      "3\n",
      "4\n"
     ]
    }
   ],
   "source": [
    "for i in range (1,5):\n",
    "    print(i)"
   ]
  },
  {
   "cell_type": "markdown",
   "id": "efe7279a",
   "metadata": {},
   "source": [
    "# Homework 2"
   ]
  },
  {
   "cell_type": "markdown",
   "id": "993c16af",
   "metadata": {},
   "source": [
    "### No 1"
   ]
  },
  {
   "cell_type": "code",
   "execution_count": 4,
   "id": "ae89a7e4",
   "metadata": {},
   "outputs": [
    {
     "name": "stdout",
     "output_type": "stream",
     "text": [
      "1\n",
      "2\n",
      "3\n",
      "4\n",
      "5\n",
      "6\n",
      "7\n",
      "8\n",
      "9\n",
      "10\n",
      "11\n",
      "12\n",
      "13\n",
      "14\n",
      "15\n",
      "16\n",
      "17\n",
      "18\n",
      "19\n",
      "20\n",
      "21\n",
      "22\n",
      "23\n",
      "24\n",
      "25\n",
      "26\n",
      "27\n",
      "28\n",
      "29\n",
      "30\n",
      "31\n",
      "32\n",
      "33\n",
      "34\n",
      "35\n",
      "36\n",
      "37\n",
      "38\n",
      "39\n",
      "40\n",
      "41\n",
      "42\n",
      "43\n",
      "44\n",
      "45\n",
      "46\n",
      "47\n",
      "48\n",
      "49\n",
      "50\n",
      "51\n",
      "52\n",
      "53\n",
      "54\n",
      "55\n",
      "56\n",
      "57\n",
      "58\n",
      "59\n",
      "60\n",
      "61\n",
      "62\n",
      "63\n",
      "64\n",
      "65\n",
      "66\n",
      "67\n",
      "68\n",
      "69\n",
      "70\n",
      "71\n",
      "72\n",
      "73\n",
      "74\n",
      "75\n",
      "76\n",
      "77\n",
      "78\n",
      "79\n",
      "80\n",
      "81\n",
      "82\n",
      "83\n",
      "84\n",
      "85\n",
      "86\n",
      "87\n",
      "88\n",
      "89\n",
      "90\n",
      "91\n",
      "92\n",
      "93\n",
      "94\n",
      "95\n",
      "96\n",
      "97\n",
      "98\n",
      "99\n",
      "100\n",
      "101\n",
      "102\n",
      "103\n",
      "104\n",
      "105\n",
      "106\n",
      "107\n",
      "108\n",
      "109\n",
      "110\n",
      "111\n",
      "112\n",
      "113\n",
      "114\n",
      "115\n",
      "116\n",
      "117\n",
      "118\n",
      "119\n",
      "120\n",
      "121\n",
      "122\n",
      "123\n",
      "124\n",
      "125\n",
      "126\n",
      "127\n",
      "128\n",
      "129\n",
      "130\n",
      "131\n",
      "132\n",
      "133\n",
      "134\n",
      "135\n",
      "136\n",
      "137\n",
      "138\n",
      "139\n",
      "140\n",
      "141\n",
      "142\n",
      "143\n",
      "144\n",
      "145\n",
      "146\n",
      "147\n",
      "148\n",
      "149\n",
      "150\n",
      "151\n",
      "152\n",
      "153\n",
      "154\n",
      "155\n",
      "156\n",
      "157\n",
      "158\n",
      "159\n",
      "160\n",
      "161\n",
      "162\n",
      "163\n",
      "164\n",
      "165\n",
      "166\n",
      "167\n",
      "168\n",
      "169\n",
      "170\n",
      "171\n",
      "172\n",
      "173\n",
      "174\n",
      "175\n",
      "176\n",
      "177\n",
      "178\n",
      "179\n",
      "180\n",
      "181\n",
      "182\n",
      "183\n",
      "184\n",
      "185\n",
      "186\n",
      "187\n",
      "188\n",
      "189\n",
      "190\n",
      "191\n",
      "192\n",
      "193\n",
      "194\n",
      "195\n",
      "196\n",
      "197\n",
      "198\n",
      "199\n",
      "200\n"
     ]
    }
   ],
   "source": [
    "for j in range (1,201):\n",
    "    print(j)"
   ]
  },
  {
   "cell_type": "markdown",
   "id": "4638a15a",
   "metadata": {},
   "source": [
    "### No 2"
   ]
  },
  {
   "cell_type": "code",
   "execution_count": 5,
   "id": "86a8c0a4",
   "metadata": {},
   "outputs": [
    {
     "name": "stdout",
     "output_type": "stream",
     "text": [
      "0\n",
      "5\n",
      "10\n",
      "15\n",
      "20\n",
      "25\n",
      "30\n",
      "35\n",
      "40\n",
      "45\n",
      "50\n",
      "55\n",
      "60\n",
      "65\n",
      "70\n",
      "75\n",
      "80\n",
      "85\n",
      "90\n",
      "95\n"
     ]
    }
   ],
   "source": [
    "for i in range (0,100,5):\n",
    "    print(i)"
   ]
  },
  {
   "cell_type": "code",
   "execution_count": null,
   "id": "e145d242",
   "metadata": {},
   "outputs": [],
   "source": []
  }
 ],
 "metadata": {
  "kernelspec": {
   "display_name": "Python 3 (ipykernel)",
   "language": "python",
   "name": "python3"
  },
  "language_info": {
   "codemirror_mode": {
    "name": "ipython",
    "version": 3
   },
   "file_extension": ".py",
   "mimetype": "text/x-python",
   "name": "python",
   "nbconvert_exporter": "python",
   "pygments_lexer": "ipython3",
   "version": "3.9.7"
  }
 },
 "nbformat": 4,
 "nbformat_minor": 5
}
