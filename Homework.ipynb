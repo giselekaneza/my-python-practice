{
 "cells": [
  {
   "cell_type": "code",
   "execution_count": 2,
   "id": "70dfa4e0",
   "metadata": {},
   "outputs": [
    {
     "name": "stdout",
     "output_type": "stream",
     "text": [
      "['Gisele', 'Kaneza', 'Brian', 'Kyanjo', 'Rutwe']\n"
     ]
    }
   ],
   "source": [
    "Name=['Gisele','Kaneza','Brian','Kyanjo','Rutwe']\n",
    "print (Name)"
   ]
  },
  {
   "cell_type": "code",
   "execution_count": 6,
   "id": "e7729177",
   "metadata": {},
   "outputs": [
    {
     "name": "stdout",
     "output_type": "stream",
     "text": [
      "Name= ['Gisele', 'Kaneza', 'Brian', 'Kyanjo', 'Rutwe']\n"
     ]
    }
   ],
   "source": [
    "print('Name=',Name)"
   ]
  },
  {
   "cell_type": "code",
   "execution_count": 7,
   "id": "347a85c5",
   "metadata": {},
   "outputs": [
    {
     "data": {
      "text/plain": [
       "'Gisele'"
      ]
     },
     "execution_count": 7,
     "metadata": {},
     "output_type": "execute_result"
    }
   ],
   "source": [
    "Name[0]"
   ]
  },
  {
   "cell_type": "code",
   "execution_count": 25,
   "id": "9cc9ecfd",
   "metadata": {},
   "outputs": [],
   "source": [
    "mylist=[]"
   ]
  },
  {
   "cell_type": "code",
   "execution_count": 26,
   "id": "9ca26cb1",
   "metadata": {},
   "outputs": [
    {
     "name": "stdout",
     "output_type": "stream",
     "text": [
      "['Rutwe']\n"
     ]
    }
   ],
   "source": [
    "mylist.append('Rutwe')\n",
    "print (mylist)"
   ]
  },
  {
   "cell_type": "code",
   "execution_count": 27,
   "id": "a34e4fd4",
   "metadata": {},
   "outputs": [
    {
     "name": "stdout",
     "output_type": "stream",
     "text": [
      "['Rutwe', 'Brian']\n"
     ]
    }
   ],
   "source": [
    "mylist.append('Brian')\n",
    "print (mylist)"
   ]
  },
  {
   "cell_type": "code",
   "execution_count": 28,
   "id": "8f813bbf",
   "metadata": {},
   "outputs": [
    {
     "name": "stdout",
     "output_type": "stream",
     "text": [
      "['Rutwe', 'Brian', 'Gisele']\n"
     ]
    }
   ],
   "source": [
    "mylist.append('Gisele')\n",
    "print(mylist)"
   ]
  },
  {
   "cell_type": "code",
   "execution_count": 29,
   "id": "4823906f",
   "metadata": {},
   "outputs": [
    {
     "name": "stdout",
     "output_type": "stream",
     "text": [
      "['Rutwe', 'Brian', 'Gisele', 2]\n"
     ]
    }
   ],
   "source": [
    "mylist.append(2)\n",
    "print(mylist)"
   ]
  },
  {
   "cell_type": "code",
   "execution_count": 30,
   "id": "5883e714",
   "metadata": {},
   "outputs": [
    {
     "name": "stdout",
     "output_type": "stream",
     "text": [
      "['Rutwe', 'Brian', 'Gisele', 2]\n"
     ]
    }
   ],
   "source": [
    "print(mylist)"
   ]
  },
  {
   "cell_type": "code",
   "execution_count": 31,
   "id": "02270086",
   "metadata": {},
   "outputs": [
    {
     "name": "stdout",
     "output_type": "stream",
     "text": [
      "['Rutwe', 'Kyanjo', 'Gisele', 2]\n"
     ]
    }
   ],
   "source": [
    "mylist[1]='Kyanjo'\n",
    "print (mylist)"
   ]
  },
  {
   "cell_type": "code",
   "execution_count": 32,
   "id": "0ab658ba",
   "metadata": {},
   "outputs": [
    {
     "name": "stdout",
     "output_type": "stream",
     "text": [
      "['Redempta', 'Kyanjo', 'Gisele', 2]\n"
     ]
    }
   ],
   "source": [
    "mylist[0]='Redempta'\n",
    "print(mylist)"
   ]
  },
  {
   "cell_type": "code",
   "execution_count": 33,
   "id": "847b8b2b",
   "metadata": {},
   "outputs": [
    {
     "name": "stdout",
     "output_type": "stream",
     "text": [
      "['Kyanjo', 'Gisele', 2]\n"
     ]
    }
   ],
   "source": [
    "mylist.remove('Redempta')\n",
    "print(mylist)"
   ]
  },
  {
   "cell_type": "code",
   "execution_count": 34,
   "id": "a57608dd",
   "metadata": {},
   "outputs": [
    {
     "data": {
      "text/plain": [
       "3"
      ]
     },
     "execution_count": 34,
     "metadata": {},
     "output_type": "execute_result"
    }
   ],
   "source": [
    "len(mylist)\n"
   ]
  },
  {
   "cell_type": "code",
   "execution_count": null,
   "id": "ed5b1a9e",
   "metadata": {},
   "outputs": [],
   "source": []
  }
 ],
 "metadata": {
  "kernelspec": {
   "display_name": "Python 3 (ipykernel)",
   "language": "python",
   "name": "python3"
  },
  "language_info": {
   "codemirror_mode": {
    "name": "ipython",
    "version": 3
   },
   "file_extension": ".py",
   "mimetype": "text/x-python",
   "name": "python",
   "nbconvert_exporter": "python",
   "pygments_lexer": "ipython3",
   "version": "3.9.7"
  }
 },
 "nbformat": 4,
 "nbformat_minor": 5
}
