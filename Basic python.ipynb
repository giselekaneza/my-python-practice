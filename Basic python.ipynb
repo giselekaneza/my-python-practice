{
 "cells": [
  {
   "cell_type": "markdown",
   "id": "94244809",
   "metadata": {},
   "source": [
    "# Importing modules and using them\n",
    "Modules include:\n",
    "- Numpy:numerical python enables us to use numerical libraries,these libraries include:\n",
    "    - cosine:import numpy as np then we type np.cos(x), where x is any value \n",
    "    - sine : np.sin(x)\n",
    "    - tan : np.tan(x)\n",
    "    - etc\n",
    "- Sympy: symblolic python enable us to do integration, differantion, using symbols etc.\n",
    "        import sympy as Sym\n",
    "- Scipy:scientific python enables us with statistics \n",
    "        import scipy as Sc\n",
    "- Pandas: used in data visualisation and analysis \n",
    "         import pandas as Pd\n",
    "- matplotlib.pylab: used for plotting\n",
    "         import matplotlib.pylab as plt\n",
    "        "
   ]
  },
  {
   "cell_type": "code",
   "execution_count": null,
   "id": "c131c788",
   "metadata": {},
   "outputs": [],
   "source": []
  },
  {
   "cell_type": "code",
   "execution_count": 2,
   "id": "a97a4d36",
   "metadata": {},
   "outputs": [],
   "source": [
    "import numpy as np"
   ]
  },
  {
   "cell_type": "code",
   "execution_count": 3,
   "id": "73cf4acf",
   "metadata": {},
   "outputs": [
    {
     "data": {
      "text/plain": [
       "-0.4480736161291701"
      ]
     },
     "execution_count": 3,
     "metadata": {},
     "output_type": "execute_result"
    }
   ],
   "source": [
    "np.cos(90)"
   ]
  },
  {
   "cell_type": "code",
   "execution_count": 4,
   "id": "875048c7",
   "metadata": {},
   "outputs": [
    {
     "data": {
      "text/plain": [
       "5.0"
      ]
     },
     "execution_count": 4,
     "metadata": {},
     "output_type": "execute_result"
    }
   ],
   "source": [
    "np.sqrt(25)"
   ]
  },
  {
   "cell_type": "markdown",
   "id": "3a57a535",
   "metadata": {},
   "source": [
    "### Activity\n",
    "#### No.1"
   ]
  },
  {
   "cell_type": "code",
   "execution_count": 13,
   "id": "6f13998b",
   "metadata": {},
   "outputs": [
    {
     "data": {
      "text/plain": [
       "0.0"
      ]
     },
     "execution_count": 13,
     "metadata": {},
     "output_type": "execute_result"
    }
   ],
   "source": [
    "np.log(1)"
   ]
  },
  {
   "cell_type": "code",
   "execution_count": 7,
   "id": "9557ef60",
   "metadata": {},
   "outputs": [
    {
     "data": {
      "text/plain": [
       "-2.4492935982947064e-16"
      ]
     },
     "execution_count": 7,
     "metadata": {},
     "output_type": "execute_result"
    }
   ],
   "source": [
    "np.tan(2*np.pi)\n"
   ]
  },
  {
   "cell_type": "markdown",
   "id": "ab1bbcdb",
   "metadata": {},
   "source": [
    "#### No.2"
   ]
  },
  {
   "cell_type": "code",
   "execution_count": 12,
   "id": "2ea31938",
   "metadata": {},
   "outputs": [
    {
     "data": {
      "text/plain": [
       "0.7855328097128459"
      ]
     },
     "execution_count": 12,
     "metadata": {},
     "output_type": "execute_result"
    }
   ],
   "source": [
    "np.sin(3/2*np.pi**2)\n"
   ]
  },
  {
   "cell_type": "markdown",
   "id": "a8d26508",
   "metadata": {},
   "source": [
    "#### No.3"
   ]
  },
  {
   "cell_type": "code",
   "execution_count": 8,
   "id": "1fe5cd8c",
   "metadata": {},
   "outputs": [
    {
     "data": {
      "text/plain": [
       "3.141592653589793"
      ]
     },
     "execution_count": 8,
     "metadata": {},
     "output_type": "execute_result"
    }
   ],
   "source": [
    "np.pi"
   ]
  },
  {
   "cell_type": "markdown",
   "id": "fa07aeba",
   "metadata": {},
   "source": [
    "#### No.4"
   ]
  },
  {
   "cell_type": "code",
   "execution_count": 14,
   "id": "899226d9",
   "metadata": {},
   "outputs": [
    {
     "data": {
      "text/plain": [
       "2.577141844150581"
      ]
     },
     "execution_count": 14,
     "metadata": {},
     "output_type": "execute_result"
    }
   ],
   "source": [
    "np.log((4*np.pi**2)/3)"
   ]
  },
  {
   "cell_type": "markdown",
   "id": "971f0828",
   "metadata": {},
   "source": [
    "#### No.5"
   ]
  },
  {
   "cell_type": "code",
   "execution_count": 15,
   "id": "1d9f51b4",
   "metadata": {},
   "outputs": [
    {
     "data": {
      "text/plain": [
       "-0.9843872569764778"
      ]
     },
     "execution_count": 15,
     "metadata": {},
     "output_type": "execute_result"
    }
   ],
   "source": [
    "x=5\n",
    "np.cos(x**4)"
   ]
  },
  {
   "cell_type": "code",
   "execution_count": 17,
   "id": "8943c80c",
   "metadata": {},
   "outputs": [
    {
     "name": "stdout",
     "output_type": "stream",
     "text": [
      "7\n"
     ]
    }
   ],
   "source": [
    "y=x+2\n",
    "print(y)"
   ]
  },
  {
   "cell_type": "code",
   "execution_count": 19,
   "id": "fe7e61a3",
   "metadata": {},
   "outputs": [
    {
     "name": "stdout",
     "output_type": "stream",
     "text": [
      "-0.9843872569764778\n"
     ]
    }
   ],
   "source": [
    "z=np.cos(x**4)\n",
    "print(z)"
   ]
  },
  {
   "cell_type": "markdown",
   "id": "707429c9",
   "metadata": {},
   "source": [
    "## Lists and Arrays"
   ]
  },
  {
   "cell_type": "code",
   "execution_count": 21,
   "id": "7950ef03",
   "metadata": {},
   "outputs": [
    {
     "name": "stdout",
     "output_type": "stream",
     "text": [
      "[1, 2, 3, 4]\n"
     ]
    }
   ],
   "source": [
    "A=[1,2,3,4]\n",
    "print(A)"
   ]
  },
  {
   "cell_type": "code",
   "execution_count": 22,
   "id": "e5d92d31",
   "metadata": {},
   "outputs": [
    {
     "data": {
      "text/plain": [
       "4"
      ]
     },
     "execution_count": 22,
     "metadata": {},
     "output_type": "execute_result"
    }
   ],
   "source": [
    "len(A)"
   ]
  },
  {
   "cell_type": "code",
   "execution_count": 24,
   "id": "71c13935",
   "metadata": {},
   "outputs": [
    {
     "data": {
      "text/plain": [
       "3"
      ]
     },
     "execution_count": 24,
     "metadata": {},
     "output_type": "execute_result"
    }
   ],
   "source": [
    "A[0]\n",
    "A[1]\n",
    "A[2]"
   ]
  },
  {
   "cell_type": "code",
   "execution_count": 25,
   "id": "5342ae8c",
   "metadata": {},
   "outputs": [
    {
     "name": "stdout",
     "output_type": "stream",
     "text": [
      "[1, 2, 3, 10]\n"
     ]
    }
   ],
   "source": [
    "A[3]=10\n",
    "print(A)"
   ]
  },
  {
   "cell_type": "markdown",
   "id": "8472b82e",
   "metadata": {},
   "source": [
    "#### Ex.1"
   ]
  },
  {
   "cell_type": "code",
   "execution_count": 1,
   "id": "0a1ab28e",
   "metadata": {},
   "outputs": [
    {
     "ename": "NameError",
     "evalue": "name 'np' is not defined",
     "output_type": "error",
     "traceback": [
      "\u001b[1;31m---------------------------------------------------------------------------\u001b[0m",
      "\u001b[1;31mNameError\u001b[0m                                 Traceback (most recent call last)",
      "\u001b[1;32mC:\\Users\\KANEZA~1\\AppData\\Local\\Temp/ipykernel_43984/3615796019.py\u001b[0m in \u001b[0;36m<module>\u001b[1;34m\u001b[0m\n\u001b[1;32m----> 1\u001b[1;33m \u001b[0mnp\u001b[0m\u001b[1;33m.\u001b[0m\u001b[0mcos\u001b[0m\u001b[1;33m(\u001b[0m\u001b[1;36m2\u001b[0m\u001b[1;33m)\u001b[0m\u001b[1;33m\u001b[0m\u001b[1;33m\u001b[0m\u001b[0m\n\u001b[0m",
      "\u001b[1;31mNameError\u001b[0m: name 'np' is not defined"
     ]
    }
   ],
   "source": [
    "np.cos(2)"
   ]
  },
  {
   "cell_type": "markdown",
   "id": "6694d446",
   "metadata": {},
   "source": [
    "# Homework"
   ]
  },
  {
   "cell_type": "code",
   "execution_count": 2,
   "id": "d223a843",
   "metadata": {},
   "outputs": [
    {
     "ename": "NameError",
     "evalue": "name 'np' is not defined",
     "output_type": "error",
     "traceback": [
      "\u001b[1;31m---------------------------------------------------------------------------\u001b[0m",
      "\u001b[1;31mNameError\u001b[0m                                 Traceback (most recent call last)",
      "\u001b[1;32mC:\\Users\\KANEZA~1\\AppData\\Local\\Temp/ipykernel_43984/3940495048.py\u001b[0m in \u001b[0;36m<module>\u001b[1;34m\u001b[0m\n\u001b[1;32m----> 1\u001b[1;33m \u001b[0mz\u001b[0m\u001b[1;33m=\u001b[0m\u001b[0mnp\u001b[0m\u001b[1;33m.\u001b[0m\u001b[0mcos\u001b[0m\u001b[1;33m(\u001b[0m\u001b[1;33m(\u001b[0m\u001b[1;36m2\u001b[0m\u001b[1;33m*\u001b[0m\u001b[0mnp\u001b[0m\u001b[1;33m.\u001b[0m\u001b[0mpi\u001b[0m\u001b[1;33m**\u001b[0m\u001b[1;36m2\u001b[0m\u001b[1;33m)\u001b[0m\u001b[1;33m/\u001b[0m\u001b[1;36m3\u001b[0m\u001b[1;33m)\u001b[0m\u001b[1;33m\u001b[0m\u001b[1;33m\u001b[0m\u001b[0m\n\u001b[0m\u001b[0;32m      2\u001b[0m \u001b[0mprint\u001b[0m\u001b[1;33m(\u001b[0m\u001b[0mz\u001b[0m\u001b[1;33m)\u001b[0m\u001b[1;33m\u001b[0m\u001b[1;33m\u001b[0m\u001b[0m\n",
      "\u001b[1;31mNameError\u001b[0m: name 'np' is not defined"
     ]
    }
   ],
   "source": [
    "z=np.cos((2*np.pi**2)/3)\n",
    "print(z)"
   ]
  },
  {
   "cell_type": "code",
   "execution_count": 3,
   "id": "875e441f",
   "metadata": {},
   "outputs": [
    {
     "name": "stdout",
     "output_type": "stream",
     "text": [
      "0.9563500657790059\n"
     ]
    }
   ],
   "source": [
    "import numpy as np\n",
    "z=np.cos((2*np.pi**2)/3)\n",
    "print(z)"
   ]
  },
  {
   "cell_type": "code",
   "execution_count": 5,
   "id": "227ce2fd",
   "metadata": {},
   "outputs": [
    {
     "name": "stdout",
     "output_type": "stream",
     "text": [
      "nan\n"
     ]
    },
    {
     "name": "stderr",
     "output_type": "stream",
     "text": [
      "C:\\Users\\KANEZA~1\\AppData\\Local\\Temp/ipykernel_43984/199029378.py:1: RuntimeWarning: invalid value encountered in log\n",
      "  z=np.log(np.cos(3*np.pi)/np.sin(3*np.pi))\n"
     ]
    }
   ],
   "source": [
    "z=np.log(np.cos(3*np.pi)/np.sin(3*np.pi))\n",
    "print(z)"
   ]
  },
  {
   "cell_type": "code",
   "execution_count": 7,
   "id": "f5cc72aa",
   "metadata": {},
   "outputs": [
    {
     "ename": "SyntaxError",
     "evalue": "invalid syntax (Temp/ipykernel_43984/729281415.py, line 2)",
     "output_type": "error",
     "traceback": [
      "\u001b[1;36m  File \u001b[1;32m\"C:\\Users\\KANEZA~1\\AppData\\Local\\Temp/ipykernel_43984/729281415.py\"\u001b[1;36m, line \u001b[1;32m2\u001b[0m\n\u001b[1;33m    print(z)\u001b[0m\n\u001b[1;37m    ^\u001b[0m\n\u001b[1;31mSyntaxError\u001b[0m\u001b[1;31m:\u001b[0m invalid syntax\n"
     ]
    }
   ],
   "source": [
    "z=np.log((np.cos(3*np.pi))/np.sin(3*np.pi)\n",
    "print(z)"
   ]
  },
  {
   "cell_type": "code",
   "execution_count": 8,
   "id": "2e553914",
   "metadata": {},
   "outputs": [
    {
     "name": "stdout",
     "output_type": "stream",
     "text": [
      "nan\n"
     ]
    },
    {
     "name": "stderr",
     "output_type": "stream",
     "text": [
      "C:\\Users\\KANEZA~1\\AppData\\Local\\Temp/ipykernel_43984/199029378.py:1: RuntimeWarning: invalid value encountered in log\n",
      "  z=np.log(np.cos(3*np.pi)/np.sin(3*np.pi))\n"
     ]
    }
   ],
   "source": [
    "np.log((np.cos(3*np.pi))/np.sin(3*np.pi))\n"
   ]
  },
  {
   "cell_type": "code",
   "execution_count": 9,
   "id": "ad2eb21e",
   "metadata": {},
   "outputs": [
    {
     "name": "stderr",
     "output_type": "stream",
     "text": [
      "C:\\Users\\KANEZA~1\\AppData\\Local\\Temp/ipykernel_43984/2053482143.py:1: RuntimeWarning: invalid value encountered in log\n",
      "  np.log((np.cos(3*np.pi))/np.sin(3*np.pi))\n"
     ]
    },
    {
     "data": {
      "text/plain": [
       "nan"
      ]
     },
     "execution_count": 9,
     "metadata": {},
     "output_type": "execute_result"
    }
   ],
   "source": [
    "np.log((np.cos(3*np.pi))/np.sin(3*np.pi))\n"
   ]
  },
  {
   "cell_type": "code",
   "execution_count": 10,
   "id": "3e59378d",
   "metadata": {},
   "outputs": [
    {
     "data": {
      "text/plain": [
       "0.07155133637128974"
      ]
     },
     "execution_count": 10,
     "metadata": {},
     "output_type": "execute_result"
    }
   ],
   "source": [
    "np.sin(np.sqrt(3*np.pi))"
   ]
  },
  {
   "cell_type": "code",
   "execution_count": 11,
   "id": "292c6cc7",
   "metadata": {},
   "outputs": [
    {
     "name": "stdout",
     "output_type": "stream",
     "text": [
      "[1, 2, 3, 'a', 'b', 4]\n"
     ]
    }
   ],
   "source": [
    "x=[1,2,3,'a','b',4]\n",
    "print(x)"
   ]
  },
  {
   "cell_type": "code",
   "execution_count": 12,
   "id": "5964cdce",
   "metadata": {},
   "outputs": [
    {
     "data": {
      "text/plain": [
       "6"
      ]
     },
     "execution_count": 12,
     "metadata": {},
     "output_type": "execute_result"
    }
   ],
   "source": [
    "len(x)"
   ]
  },
  {
   "cell_type": "code",
   "execution_count": 13,
   "id": "043352a2",
   "metadata": {},
   "outputs": [
    {
     "data": {
      "text/plain": [
       "2"
      ]
     },
     "execution_count": 13,
     "metadata": {},
     "output_type": "execute_result"
    }
   ],
   "source": [
    "x[1]"
   ]
  },
  {
   "cell_type": "code",
   "execution_count": 14,
   "id": "a452e2c8",
   "metadata": {},
   "outputs": [
    {
     "name": "stdout",
     "output_type": "stream",
     "text": [
      "[1, 2, 3, 'd', 'b', 4]\n"
     ]
    }
   ],
   "source": [
    "x=[1,2,3,'d','b',4]\n",
    "print(x)"
   ]
  },
  {
   "cell_type": "code",
   "execution_count": null,
   "id": "76cd68e5",
   "metadata": {},
   "outputs": [],
   "source": []
  }
 ],
 "metadata": {
  "kernelspec": {
   "display_name": "Python 3 (ipykernel)",
   "language": "python",
   "name": "python3"
  },
  "language_info": {
   "codemirror_mode": {
    "name": "ipython",
    "version": 3
   },
   "file_extension": ".py",
   "mimetype": "text/x-python",
   "name": "python",
   "nbconvert_exporter": "python",
   "pygments_lexer": "ipython3",
   "version": "3.9.7"
  }
 },
 "nbformat": 4,
 "nbformat_minor": 5
}
