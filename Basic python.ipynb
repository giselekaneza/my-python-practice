{
 "cells": [
  {
   "cell_type": "markdown",
   "id": "94244809",
   "metadata": {},
   "source": [
    "# Importing modules and using them\n",
    "Modules include:\n",
    "- Numpy:numerical python enables us to use numerical libraries,these libraries include:\n",
    "    - cosine:import numpy as np then we type np.cos(x), where x is any value \n",
    "    - sine : np.sin(x)\n",
    "    - tan : np.tan(x)\n",
    "    - etc\n",
    "- Sympy: symblolic python enable us to do integration, differantion, using symbols etc.\n",
    "        import sympy as Sym\n",
    "- Scipy:scientific python enables us with statistics \n",
    "        import scipy as Sc\n",
    "- Pandas: used in data visualisation and analysis \n",
    "         import pandas as Pd\n",
    "- matplotlib.pylab: used for plotting\n",
    "         import matplotlib.pylab as plt\n",
    "        "
   ]
  },
  {
   "cell_type": "code",
   "execution_count": null,
   "id": "a97a4d36",
   "metadata": {},
   "outputs": [],
   "source": []
  }
 ],
 "metadata": {
  "kernelspec": {
   "display_name": "Python 3 (ipykernel)",
   "language": "python",
   "name": "python3"
  },
  "language_info": {
   "codemirror_mode": {
    "name": "ipython",
    "version": 3
   },
   "file_extension": ".py",
   "mimetype": "text/x-python",
   "name": "python",
   "nbconvert_exporter": "python",
   "pygments_lexer": "ipython3",
   "version": "3.9.7"
  }
 },
 "nbformat": 4,
 "nbformat_minor": 5
}
