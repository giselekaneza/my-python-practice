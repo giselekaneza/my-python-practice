{
 "cells": [
  {
   "cell_type": "markdown",
   "id": "ede2ed85",
   "metadata": {},
   "source": [
    "# kaneza\n",
    "## python\n",
    "### Gisele"
   ]
  },
  {
   "cell_type": "code",
   "execution_count": null,
   "id": "0fcd3123",
   "metadata": {},
   "outputs": [],
   "source": []
  },
  {
   "cell_type": "code",
   "execution_count": 18,
   "id": "ceb81aa8",
   "metadata": {},
   "outputs": [
    {
     "data": {
      "text/plain": [
       "1"
      ]
     },
     "execution_count": 18,
     "metadata": {},
     "output_type": "execute_result"
    }
   ],
   "source": [
    "a=1\n",
    "b=3\n",
    "a"
   ]
  },
  {
   "cell_type": "markdown",
   "id": "60d106a7",
   "metadata": {},
   "source": [
    "gisele grjrotijpwoetuj;wotjelgjgportktbvmdmgskvmmdfnsmb,dceklvmldfsldfgnbbbbdsfdjnwfmlldgnsmngwuvnnskdmlwnlrjglsgnlksrgjsvnlgbnbnbngbvmbnnb,dmmddllnmnmnnbld,md,nbd,dcmdnbdlkfjmb\n",
    "__my list__\n",
    "- kaneza\n",
    "    - gisele\n",
    "    \n",
    "_my list_"
   ]
  },
  {
   "cell_type": "code",
   "execution_count": 5,
   "id": "5ecc2be2",
   "metadata": {},
   "outputs": [
    {
     "data": {
      "text/plain": [
       "3"
      ]
     },
     "execution_count": 5,
     "metadata": {},
     "output_type": "execute_result"
    }
   ],
   "source": [
    "b"
   ]
  },
  {
   "cell_type": "code",
   "execution_count": 6,
   "id": "4248b6e7",
   "metadata": {},
   "outputs": [
    {
     "data": {
      "text/plain": [
       "4"
      ]
     },
     "execution_count": 6,
     "metadata": {},
     "output_type": "execute_result"
    }
   ],
   "source": [
    "a+b"
   ]
  },
  {
   "cell_type": "code",
   "execution_count": 7,
   "id": "5ec9382d",
   "metadata": {},
   "outputs": [
    {
     "data": {
      "text/plain": [
       "24"
      ]
     },
     "execution_count": 7,
     "metadata": {},
     "output_type": "execute_result"
    }
   ],
   "source": [
    "24*a"
   ]
  },
  {
   "cell_type": "code",
   "execution_count": 8,
   "id": "4d3e4ef6",
   "metadata": {},
   "outputs": [
    {
     "data": {
      "text/plain": [
       "576"
      ]
     },
     "execution_count": 8,
     "metadata": {},
     "output_type": "execute_result"
    }
   ],
   "source": [
    "24**2"
   ]
  },
  {
   "cell_type": "code",
   "execution_count": 9,
   "id": "f211b20c",
   "metadata": {},
   "outputs": [
    {
     "data": {
      "text/plain": [
       "5.0"
      ]
     },
     "execution_count": 9,
     "metadata": {},
     "output_type": "execute_result"
    }
   ],
   "source": [
    "25**(0.5)"
   ]
  },
  {
   "cell_type": "code",
   "execution_count": 10,
   "id": "d36e29f6",
   "metadata": {},
   "outputs": [
    {
     "data": {
      "text/plain": [
       "12.5"
      ]
     },
     "execution_count": 10,
     "metadata": {},
     "output_type": "execute_result"
    }
   ],
   "source": [
    "25/2"
   ]
  },
  {
   "cell_type": "code",
   "execution_count": 12,
   "id": "da2b3204",
   "metadata": {},
   "outputs": [
    {
     "data": {
      "text/plain": [
       "1"
      ]
     },
     "execution_count": 12,
     "metadata": {},
     "output_type": "execute_result"
    }
   ],
   "source": [
    "25%2"
   ]
  },
  {
   "cell_type": "code",
   "execution_count": 13,
   "id": "45b4fb3c",
   "metadata": {},
   "outputs": [],
   "source": [
    "a=2\n",
    "b=3\n",
    "c=2"
   ]
  },
  {
   "cell_type": "code",
   "execution_count": 14,
   "id": "fa665b3a",
   "metadata": {},
   "outputs": [],
   "source": [
    "a=b"
   ]
  },
  {
   "cell_type": "code",
   "execution_count": 15,
   "id": "8951d842",
   "metadata": {},
   "outputs": [],
   "source": [
    "a=c"
   ]
  },
  {
   "cell_type": "code",
   "execution_count": 16,
   "id": "8758fd1c",
   "metadata": {},
   "outputs": [
    {
     "name": "stdout",
     "output_type": "stream",
     "text": [
      "2\n"
     ]
    }
   ],
   "source": [
    " "
   ]
  },
  {
   "cell_type": "code",
   "execution_count": 20,
   "id": "66076855",
   "metadata": {},
   "outputs": [
    {
     "name": "stdout",
     "output_type": "stream",
     "text": [
      "False\n",
      "True\n"
     ]
    }
   ],
   "source": [
    "print(a==b) #checking if a=b\n",
    "print(a==c)"
   ]
  },
  {
   "cell_type": "code",
   "execution_count": 21,
   "id": "119fb25c",
   "metadata": {},
   "outputs": [
    {
     "name": "stdout",
     "output_type": "stream",
     "text": [
      "i am not okay\n"
     ]
    }
   ],
   "source": [
    "if(a==b) and (a==c):\n",
    "    print(\"i am okay\")\n",
    "else:\n",
    "    print(\"i am not okay\")"
   ]
  },
  {
   "cell_type": "code",
   "execution_count": 22,
   "id": "7f0d2319",
   "metadata": {},
   "outputs": [
    {
     "name": "stdout",
     "output_type": "stream",
     "text": [
      "i am okay\n"
     ]
    }
   ],
   "source": [
    "if(a==b) or (a==c):\n",
    "    print(\"i am okay\")\n",
    "else:\n",
    "    print(\"i am not okay\")"
   ]
  },
  {
   "cell_type": "code",
   "execution_count": 1,
   "id": "11ab7163",
   "metadata": {},
   "outputs": [
    {
     "name": "stdout",
     "output_type": "stream",
     "text": [
      "2\n"
     ]
    }
   ],
   "source": [
    "a=2\n",
    "b=3\n",
    "c=4 \n",
    "print(a)"
   ]
  },
  {
   "cell_type": "code",
   "execution_count": 15,
   "id": "a33b8e84",
   "metadata": {},
   "outputs": [
    {
     "name": "stdout",
     "output_type": "stream",
     "text": [
      "a = 2\n",
      "b = 3 c = 4\n"
     ]
    }
   ],
   "source": [
    "print(\"a =\",a)\n",
    "print(\"b =\",b,\"c =\",c )"
   ]
  },
  {
   "cell_type": "code",
   "execution_count": 17,
   "id": "b960505e",
   "metadata": {},
   "outputs": [
    {
     "name": "stdout",
     "output_type": "stream",
     "text": [
      "b = 3 \n",
      "c = 4\n"
     ]
    }
   ],
   "source": [
    "print(\"b =\",b,\"\\nc =\",c )"
   ]
  },
  {
   "cell_type": "markdown",
   "id": "36b15647",
   "metadata": {},
   "source": [
    "print(\"kaneza is\",a,\"years in china\")"
   ]
  },
  {
   "cell_type": "code",
   "execution_count": 12,
   "id": "8298683e",
   "metadata": {},
   "outputs": [
    {
     "name": "stdout",
     "output_type": "stream",
     "text": [
      "kaneza\n"
     ]
    }
   ],
   "source": [
    "j=\"kaneza\"\n",
    "print(j)\n"
   ]
  },
  {
   "cell_type": "code",
   "execution_count": 21,
   "id": "203e6999",
   "metadata": {},
   "outputs": [
    {
     "name": "stdout",
     "output_type": "stream",
     "text": [
      "12\n"
     ]
    }
   ],
   "source": [
    "a=2\n",
    "b=3\n",
    "if a==2 or b==3:\n",
    "    c=8\n",
    "    d=c+4\n",
    "    print(d)"
   ]
  },
  {
   "cell_type": "code",
   "execution_count": 25,
   "id": "8163b54c",
   "metadata": {},
   "outputs": [
    {
     "name": "stdout",
     "output_type": "stream",
     "text": [
      "2\n",
      "3\n",
      "8\n"
     ]
    }
   ],
   "source": [
    "print(a)\n",
    "print(b)\n",
    "print(c)"
   ]
  },
  {
   "cell_type": "code",
   "execution_count": null,
   "id": "bfc6dc91",
   "metadata": {},
   "outputs": [],
   "source": []
  }
 ],
 "metadata": {
  "kernelspec": {
   "display_name": "Python 3 (ipykernel)",
   "language": "python",
   "name": "python3"
  },
  "language_info": {
   "codemirror_mode": {
    "name": "ipython",
    "version": 3
   },
   "file_extension": ".py",
   "mimetype": "text/x-python",
   "name": "python",
   "nbconvert_exporter": "python",
   "pygments_lexer": "ipython3",
   "version": "3.9.7"
  }
 },
 "nbformat": 4,
 "nbformat_minor": 5
}
